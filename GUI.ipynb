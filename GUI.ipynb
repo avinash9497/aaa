{
 "cells": [
  {
   "cell_type": "code",
   "execution_count": 2,
   "id": "ea1b0d4b-1867-4616-90e1-b0c1fd094520",
   "metadata": {},
   "outputs": [],
   "source": [
    "from tkinter import*\n",
    "root=Tk()\n",
    "a=Label(root,text=\"hello there!\")\n",
    "a.pack()\n",
    "root.mainloop()"
   ]
  },
  {
   "cell_type": "code",
   "execution_count": 39,
   "id": "e98c675b-50f2-4aef-ad97-dfa7cb45ce27",
   "metadata": {},
   "outputs": [],
   "source": [
    "from tkinter import*\n",
    "root=Tk()\n",
    "a=Label(root,text='hello')\n",
    "root.geometry('100x100')\n",
    "btn=Button(root,text='click me!',bd='10',command=root.destroy)\n",
    "btn.pack(side='bottom')\n",
    "root.mainloop()"
   ]
  },
  {
   "cell_type": "code",
   "execution_count": 41,
   "id": "c02dccc1-82a4-433f-8f07-97a700ed3403",
   "metadata": {},
   "outputs": [],
   "source": [
    "from tkinter import*\n",
    "from tkinter.ttk import*\n",
    "root=Tk()\n",
    "root.geometry('500x100')\n",
    "Style = Style ()\n",
    "Style.configure('w.TButton',font=('calibri',80,'bold','italic','underline'),foreground='red')\n",
    "'Button1'\n",
    "\n",
    "btn1=Button(root,text='quit',style='w.TButton',command=root.destroy)\n",
    "\n",
    "btn1.grid(row=3,column=3,pady=10,padx=100)\n",
    "btn1.pack(side='bottom')\n",
    "\n",
    "root.mainloop()"
   ]
  },
  {
   "cell_type": "code",
   "execution_count": null,
   "id": "963de816-66cd-4d4f-867d-d8e9c3f9f496",
   "metadata": {},
   "outputs": [],
   "source": []
  },
  {
   "cell_type": "code",
   "execution_count": null,
   "id": "e4279edf-5bcb-427b-aa26-8b78af98f60d",
   "metadata": {},
   "outputs": [],
   "source": []
  }
 ],
 "metadata": {
  "kernelspec": {
   "display_name": "Python 3 (ipykernel)",
   "language": "python",
   "name": "python3"
  },
  "language_info": {
   "codemirror_mode": {
    "name": "ipython",
    "version": 3
   },
   "file_extension": ".py",
   "mimetype": "text/x-python",
   "name": "python",
   "nbconvert_exporter": "python",
   "pygments_lexer": "ipython3",
   "version": "3.13.1"
  }
 },
 "nbformat": 4,
 "nbformat_minor": 5
}
